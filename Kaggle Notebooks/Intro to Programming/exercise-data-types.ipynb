{
 "cells": [
  {
   "cell_type": "markdown",
   "id": "05d1e776",
   "metadata": {
    "papermill": {
     "duration": 0.008174,
     "end_time": "2024-02-23T13:14:17.663652",
     "exception": false,
     "start_time": "2024-02-23T13:14:17.655478",
     "status": "completed"
    },
    "tags": []
   },
   "source": [
    "**This notebook is an exercise in the [Intro to Programming](https://www.kaggle.com/learn/intro-to-programming) course.  You can reference the tutorial at [this link](https://www.kaggle.com/alexisbcook/data-types).**\n",
    "\n",
    "---\n"
   ]
  },
  {
   "cell_type": "markdown",
   "id": "d4efff18",
   "metadata": {
    "papermill": {
     "duration": 0.007773,
     "end_time": "2024-02-23T13:14:17.679385",
     "exception": false,
     "start_time": "2024-02-23T13:14:17.671612",
     "status": "completed"
    },
    "tags": []
   },
   "source": [
    "In the tutorial, you learned about four different data types: floats, integers, strings, and booleans.  In this exercise, you'll experiment with them.\n",
    "\n",
    "# Set up the notebook\n",
    "\n",
    "Run the next code cell without changes to set up the notebook."
   ]
  },
  {
   "cell_type": "code",
   "execution_count": 1,
   "id": "052cf46b",
   "metadata": {
    "execution": {
     "iopub.execute_input": "2024-02-23T13:14:17.696950Z",
     "iopub.status.busy": "2024-02-23T13:14:17.696327Z",
     "iopub.status.idle": "2024-02-23T13:14:18.517193Z",
     "shell.execute_reply": "2024-02-23T13:14:18.515319Z"
    },
    "papermill": {
     "duration": 0.833263,
     "end_time": "2024-02-23T13:14:18.520650",
     "exception": false,
     "start_time": "2024-02-23T13:14:17.687387",
     "status": "completed"
    },
    "tags": []
   },
   "outputs": [
    {
     "name": "stdout",
     "output_type": "stream",
     "text": [
      "Setup complete.\n"
     ]
    }
   ],
   "source": [
    "# Set up the exercise\n",
    "from learntools.core import binder\n",
    "binder.bind(globals())\n",
    "from learntools.intro_to_programming.ex3 import *\n",
    "print('Setup complete.')"
   ]
  },
  {
   "cell_type": "markdown",
   "id": "c3a9c2e2",
   "metadata": {
    "papermill": {
     "duration": 0.008262,
     "end_time": "2024-02-23T13:14:18.538040",
     "exception": false,
     "start_time": "2024-02-23T13:14:18.529778",
     "status": "completed"
    },
    "tags": []
   },
   "source": [
    "# Question 1\n",
    "\n",
    "You have seen how to convert a float to an integer with the `int` function.  Try this out yourself by running the code cell below."
   ]
  },
  {
   "cell_type": "code",
   "execution_count": 2,
   "id": "3f1ef060",
   "metadata": {
    "execution": {
     "iopub.execute_input": "2024-02-23T13:14:18.554951Z",
     "iopub.status.busy": "2024-02-23T13:14:18.554461Z",
     "iopub.status.idle": "2024-02-23T13:14:18.560550Z",
     "shell.execute_reply": "2024-02-23T13:14:18.559402Z"
    },
    "papermill": {
     "duration": 0.017507,
     "end_time": "2024-02-23T13:14:18.562928",
     "exception": false,
     "start_time": "2024-02-23T13:14:18.545421",
     "status": "completed"
    },
    "tags": []
   },
   "outputs": [
    {
     "name": "stdout",
     "output_type": "stream",
     "text": [
      "1.0\n",
      "<class 'float'>\n",
      "1\n",
      "<class 'int'>\n"
     ]
    }
   ],
   "source": [
    "# Define a float\n",
    "y = 1.\n",
    "print(y)\n",
    "print(type(y))\n",
    "\n",
    "# Convert float to integer with the int function\n",
    "z = int(y)\n",
    "print(z)\n",
    "print(type(z))"
   ]
  },
  {
   "cell_type": "markdown",
   "id": "c518f3bb",
   "metadata": {
    "papermill": {
     "duration": 0.007721,
     "end_time": "2024-02-23T13:14:18.578594",
     "exception": false,
     "start_time": "2024-02-23T13:14:18.570873",
     "status": "completed"
    },
    "tags": []
   },
   "source": [
    "In this case, the float you are using has no numbers after the decimal.  \n",
    "- But what happens when you try to convert a float with a fractional part to an integer?  \n",
    "- How does the outcome of the `int` function change for positive and negative numbers?\n",
    "\n",
    "Use the next code cell to investigate and answer these questions.  Feel free to add or remove any lines of code -- it is your workspace!"
   ]
  },
  {
   "cell_type": "code",
   "execution_count": 3,
   "id": "e66a8c3a",
   "metadata": {
    "execution": {
     "iopub.execute_input": "2024-02-23T13:14:18.595720Z",
     "iopub.status.busy": "2024-02-23T13:14:18.595372Z",
     "iopub.status.idle": "2024-02-23T13:14:18.601493Z",
     "shell.execute_reply": "2024-02-23T13:14:18.600479Z"
    },
    "papermill": {
     "duration": 0.017355,
     "end_time": "2024-02-23T13:14:18.603730",
     "exception": false,
     "start_time": "2024-02-23T13:14:18.586375",
     "status": "completed"
    },
    "tags": []
   },
   "outputs": [
    {
     "name": "stdout",
     "output_type": "stream",
     "text": [
      "1\n",
      "1\n",
      "-3\n",
      "-2\n"
     ]
    }
   ],
   "source": [
    "# Uncomment and run this code to get started!\n",
    "print(int(1.2321))\n",
    "print(int(1.747))\n",
    "print(int(-3.94535))\n",
    "print(int(-2.19774))"
   ]
  },
  {
   "cell_type": "markdown",
   "id": "815fee35",
   "metadata": {
    "papermill": {
     "duration": 0.007866,
     "end_time": "2024-02-23T13:14:18.619731",
     "exception": false,
     "start_time": "2024-02-23T13:14:18.611865",
     "status": "completed"
    },
    "tags": []
   },
   "source": [
    "Once you have an answer, run the code cell below to see the solution.  Viewing the solution will give you credit for answering the problem."
   ]
  },
  {
   "cell_type": "code",
   "execution_count": 4,
   "id": "c2fbc908",
   "metadata": {
    "execution": {
     "iopub.execute_input": "2024-02-23T13:14:18.637436Z",
     "iopub.status.busy": "2024-02-23T13:14:18.637099Z",
     "iopub.status.idle": "2024-02-23T13:14:18.645617Z",
     "shell.execute_reply": "2024-02-23T13:14:18.644709Z"
    },
    "papermill": {
     "duration": 0.020129,
     "end_time": "2024-02-23T13:14:18.647866",
     "exception": false,
     "start_time": "2024-02-23T13:14:18.627737",
     "status": "completed"
    },
    "tags": []
   },
   "outputs": [
    {
     "data": {
      "application/javascript": [
       "parent.postMessage({\"jupyterEvent\": \"custom.exercise_interaction\", \"data\": {\"outcomeType\": 1, \"valueTowardsCompletion\": 0.2, \"interactionType\": 1, \"questionType\": 4, \"questionId\": \"1_FloatToInt\", \"learnToolsVersion\": \"0.3.4\", \"failureMessage\": \"\", \"exceptionClass\": \"\", \"trace\": \"\"}}, \"*\")"
      ],
      "text/plain": [
       "<IPython.core.display.Javascript object>"
      ]
     },
     "metadata": {},
     "output_type": "display_data"
    },
    {
     "data": {
      "text/markdown": [
       "<span style=\"color:#33cc33\">Correct:</span> \n",
       "\n",
       "Negative floats are always rounded UP to the closest integer (for instance, both -1.1 and -1.9 are rounded up to -1). Positive floats are always rounded DOWN to the closest integer (for instance, 2.1 and 2.9 are rounded down to 2)."
      ],
      "text/plain": [
       "Correct: \n",
       "\n",
       "Negative floats are always rounded UP to the closest integer (for instance, both -1.1 and -1.9 are rounded up to -1). Positive floats are always rounded DOWN to the closest integer (for instance, 2.1 and 2.9 are rounded down to 2)."
      ]
     },
     "metadata": {},
     "output_type": "display_data"
    }
   ],
   "source": [
    "# Check your answer (Run this code cell to receive credit!)\n",
    "q1.check()"
   ]
  },
  {
   "cell_type": "markdown",
   "id": "4b422f53",
   "metadata": {
    "papermill": {
     "duration": 0.007913,
     "end_time": "2024-02-23T13:14:18.664491",
     "exception": false,
     "start_time": "2024-02-23T13:14:18.656578",
     "status": "completed"
    },
    "tags": []
   },
   "source": [
    "# Question 2\n",
    "\n",
    "In the tutorial, you learned about booleans (which can take a value of `True` or `False`), in addition to integers, floats, and strings.  For this question, your goal is to determine what happens when you multiply a boolean by any of these data types.  Specifically, \n",
    "- What happens when you multiply an integer or float by `True`?  What happens when you multiply them by `False`?  How does the answer change if the numbers are positive or negative?\n",
    "- What happens when you multiply a string by `True`?  By `False`?\n",
    "\n",
    "Use the next code cell for your investigation. "
   ]
  },
  {
   "cell_type": "code",
   "execution_count": 5,
   "id": "290718c2",
   "metadata": {
    "execution": {
     "iopub.execute_input": "2024-02-23T13:14:18.682760Z",
     "iopub.status.busy": "2024-02-23T13:14:18.682169Z",
     "iopub.status.idle": "2024-02-23T13:14:18.688176Z",
     "shell.execute_reply": "2024-02-23T13:14:18.687040Z"
    },
    "papermill": {
     "duration": 0.017402,
     "end_time": "2024-02-23T13:14:18.690183",
     "exception": false,
     "start_time": "2024-02-23T13:14:18.672781",
     "status": "completed"
    },
    "tags": []
   },
   "outputs": [
    {
     "name": "stdout",
     "output_type": "stream",
     "text": [
      "3\n",
      "-3.1\n",
      "<class 'str'>\n",
      "0\n"
     ]
    }
   ],
   "source": [
    "# Uncomment and run this code to get started!\n",
    "print(3 * True)\n",
    "print(-3.1 * True)\n",
    "print(type(\"abc\" * False))\n",
    "print(len(\"abc\" * False))"
   ]
  },
  {
   "cell_type": "markdown",
   "id": "2f7249ed",
   "metadata": {
    "papermill": {
     "duration": 0.007673,
     "end_time": "2024-02-23T13:14:18.706956",
     "exception": false,
     "start_time": "2024-02-23T13:14:18.699283",
     "status": "completed"
    },
    "tags": []
   },
   "source": [
    "Once you have an answer, run the code cell below to see the solution.  Viewing the solution will give you credit for answering the problem."
   ]
  },
  {
   "cell_type": "code",
   "execution_count": 6,
   "id": "f179348e",
   "metadata": {
    "execution": {
     "iopub.execute_input": "2024-02-23T13:14:18.725249Z",
     "iopub.status.busy": "2024-02-23T13:14:18.724593Z",
     "iopub.status.idle": "2024-02-23T13:14:18.732466Z",
     "shell.execute_reply": "2024-02-23T13:14:18.731522Z"
    },
    "papermill": {
     "duration": 0.019048,
     "end_time": "2024-02-23T13:14:18.734432",
     "exception": false,
     "start_time": "2024-02-23T13:14:18.715384",
     "status": "completed"
    },
    "tags": []
   },
   "outputs": [
    {
     "data": {
      "application/javascript": [
       "parent.postMessage({\"jupyterEvent\": \"custom.exercise_interaction\", \"data\": {\"outcomeType\": 1, \"valueTowardsCompletion\": 0.2, \"interactionType\": 1, \"questionType\": 4, \"questionId\": \"2_MultiplyBooleans\", \"learnToolsVersion\": \"0.3.4\", \"failureMessage\": \"\", \"exceptionClass\": \"\", \"trace\": \"\"}}, \"*\")"
      ],
      "text/plain": [
       "<IPython.core.display.Javascript object>"
      ]
     },
     "metadata": {},
     "output_type": "display_data"
    },
    {
     "data": {
      "text/markdown": [
       "<span style=\"color:#33cc33\">Correct:</span> \n",
       "\n",
       "When you multiple an integer or float by a boolean with value `True`, it just returns that same integer or float (and is equivalent to multiplying by 1).  If you multiply an integer or float by a boolean with value `False`, it always returns 0.  This is true for both positive and negative numbers.  If you multiply a string by a boolean with value `True`, it just returns that same string.  And if you multiply a string by a boolean with value `False`, it returns an empty string (or a string with length zero)."
      ],
      "text/plain": [
       "Correct: \n",
       "\n",
       "When you multiple an integer or float by a boolean with value `True`, it just returns that same integer or float (and is equivalent to multiplying by 1).  If you multiply an integer or float by a boolean with value `False`, it always returns 0.  This is true for both positive and negative numbers.  If you multiply a string by a boolean with value `True`, it just returns that same string.  And if you multiply a string by a boolean with value `False`, it returns an empty string (or a string with length zero)."
      ]
     },
     "metadata": {},
     "output_type": "display_data"
    }
   ],
   "source": [
    "# Check your answer (Run this code cell to receive credit!)\n",
    "q2.check()"
   ]
  },
  {
   "cell_type": "markdown",
   "id": "fd6c7cfb",
   "metadata": {
    "papermill": {
     "duration": 0.008403,
     "end_time": "2024-02-23T13:14:18.751243",
     "exception": false,
     "start_time": "2024-02-23T13:14:18.742840",
     "status": "completed"
    },
    "tags": []
   },
   "source": [
    "# Question 3\n",
    "\n",
    "In this question, you will build off your work from the previous exercise to write a function that estimates the value of a house.\n",
    "\n",
    "Use the next code cell to create a function `get_expected_cost` that takes as input three variables:\n",
    "- `beds` - number of bedrooms (data type float)\n",
    "- `baths` - number of bathrooms (data type float)\n",
    "- `has_basement` - whether or not the house has a basement (data type boolean)\n",
    "\n",
    "It should return the expected cost of a house with those characteristics. Assume that:\n",
    "- the expected cost for a house with 0 bedrooms and 0 bathrooms, and no basement is 80000, \n",
    "- each bedroom adds 30000 to the expected cost,\n",
    "- each bathroom adds 10000 to the expected cost, and\n",
    "- a basement adds 40000 to the expected cost.\n",
    "\n",
    "For instance,\n",
    "- a house with 1 bedroom, 1 bathroom, and no basement has an expected cost of 80000 + 30000 + 10000 = 120000.  This value will be calculated with `get_expected_cost(1, 1, False)`.\n",
    "- a house with 2 bedrooms, 1 bathroom, and a basement has an expected cost of 80000 + 2*30000 + 10000 + 40000 = 190000.  This value will be calculated with `get_expected_cost(2, 1, True)`.\n",
    "\n",
    "Remember you can always get a hint by uncommenting `q3.hint()` in the code cell following the next!"
   ]
  },
  {
   "cell_type": "code",
   "execution_count": 7,
   "id": "517821b8",
   "metadata": {
    "execution": {
     "iopub.execute_input": "2024-02-23T13:14:18.770209Z",
     "iopub.status.busy": "2024-02-23T13:14:18.769815Z",
     "iopub.status.idle": "2024-02-23T13:14:18.778589Z",
     "shell.execute_reply": "2024-02-23T13:14:18.777845Z"
    },
    "papermill": {
     "duration": 0.020769,
     "end_time": "2024-02-23T13:14:18.780437",
     "exception": false,
     "start_time": "2024-02-23T13:14:18.759668",
     "status": "completed"
    },
    "tags": []
   },
   "outputs": [
    {
     "data": {
      "application/javascript": [
       "parent.postMessage({\"jupyterEvent\": \"custom.exercise_interaction\", \"data\": {\"outcomeType\": 1, \"valueTowardsCompletion\": 0.2, \"interactionType\": 1, \"questionType\": 2, \"questionId\": \"3_EstimateHouseValueBool\", \"learnToolsVersion\": \"0.3.4\", \"failureMessage\": \"\", \"exceptionClass\": \"\", \"trace\": \"\"}}, \"*\")"
      ],
      "text/plain": [
       "<IPython.core.display.Javascript object>"
      ]
     },
     "metadata": {},
     "output_type": "display_data"
    },
    {
     "data": {
      "text/markdown": [
       "<span style=\"color:#33cc33\">Correct</span>"
      ],
      "text/plain": [
       "Correct"
      ]
     },
     "metadata": {},
     "output_type": "display_data"
    }
   ],
   "source": [
    "# TODO: Complete the function\n",
    "def get_expected_cost(beds, baths, has_basement):\n",
    "    value = 80000 + (beds * 30000) + (baths * 10000) + (40000 * has_basement)\n",
    "    return value\n",
    "\n",
    "# Check your answer \n",
    "q3.check()"
   ]
  },
  {
   "cell_type": "code",
   "execution_count": 8,
   "id": "1620c0bf",
   "metadata": {
    "execution": {
     "iopub.execute_input": "2024-02-23T13:14:18.801542Z",
     "iopub.status.busy": "2024-02-23T13:14:18.800598Z",
     "iopub.status.idle": "2024-02-23T13:14:18.805292Z",
     "shell.execute_reply": "2024-02-23T13:14:18.804305Z"
    },
    "papermill": {
     "duration": 0.01748,
     "end_time": "2024-02-23T13:14:18.807408",
     "exception": false,
     "start_time": "2024-02-23T13:14:18.789928",
     "status": "completed"
    },
    "tags": []
   },
   "outputs": [],
   "source": [
    "# Uncomment to see a hint\n",
    "#q3.hint()\n",
    "\n",
    "# Uncomment to view the solution\n",
    "#q3.solution()"
   ]
  },
  {
   "cell_type": "markdown",
   "id": "5386a4f6",
   "metadata": {
    "papermill": {
     "duration": 0.008717,
     "end_time": "2024-02-23T13:14:18.825365",
     "exception": false,
     "start_time": "2024-02-23T13:14:18.816648",
     "status": "completed"
    },
    "tags": []
   },
   "source": [
    "# Question 4\n",
    "\n",
    "We'll continue our study of boolean arithmetic.  For this question, your task is to provide a description of what happpens when you add booleans. \n",
    "\n",
    "Use the next code cell for your investigation.  Feel free to add or remove any lines of code - use it as your workspace!"
   ]
  },
  {
   "cell_type": "code",
   "execution_count": 9,
   "id": "ef4d0e1f",
   "metadata": {
    "execution": {
     "iopub.execute_input": "2024-02-23T13:14:18.844913Z",
     "iopub.status.busy": "2024-02-23T13:14:18.844561Z",
     "iopub.status.idle": "2024-02-23T13:14:18.850968Z",
     "shell.execute_reply": "2024-02-23T13:14:18.849886Z"
    },
    "papermill": {
     "duration": 0.018521,
     "end_time": "2024-02-23T13:14:18.853056",
     "exception": false,
     "start_time": "2024-02-23T13:14:18.834535",
     "status": "completed"
    },
    "tags": []
   },
   "outputs": [
    {
     "name": "stdout",
     "output_type": "stream",
     "text": [
      "0\n",
      "1\n",
      "1\n",
      "2\n",
      "3\n"
     ]
    }
   ],
   "source": [
    "print(False + False)\n",
    "print(True + False)\n",
    "print(False + True)\n",
    "print(True + True)\n",
    "print(False + True + True + True)"
   ]
  },
  {
   "cell_type": "markdown",
   "id": "9d847333",
   "metadata": {
    "papermill": {
     "duration": 0.009066,
     "end_time": "2024-02-23T13:14:18.871269",
     "exception": false,
     "start_time": "2024-02-23T13:14:18.862203",
     "status": "completed"
    },
    "tags": []
   },
   "source": [
    "Once you have an answer, run the code cell below to see the solution.  Viewing the solution will give you credit for answering the problem."
   ]
  },
  {
   "cell_type": "code",
   "execution_count": 10,
   "id": "7c190a8a",
   "metadata": {
    "execution": {
     "iopub.execute_input": "2024-02-23T13:14:18.891881Z",
     "iopub.status.busy": "2024-02-23T13:14:18.891531Z",
     "iopub.status.idle": "2024-02-23T13:14:18.898595Z",
     "shell.execute_reply": "2024-02-23T13:14:18.897888Z"
    },
    "papermill": {
     "duration": 0.019706,
     "end_time": "2024-02-23T13:14:18.900367",
     "exception": false,
     "start_time": "2024-02-23T13:14:18.880661",
     "status": "completed"
    },
    "tags": []
   },
   "outputs": [
    {
     "data": {
      "application/javascript": [
       "parent.postMessage({\"jupyterEvent\": \"custom.exercise_interaction\", \"data\": {\"outcomeType\": 1, \"valueTowardsCompletion\": 0.2, \"interactionType\": 1, \"questionType\": 4, \"questionId\": \"4_AddingBooleans\", \"learnToolsVersion\": \"0.3.4\", \"failureMessage\": \"\", \"exceptionClass\": \"\", \"trace\": \"\"}}, \"*\")"
      ],
      "text/plain": [
       "<IPython.core.display.Javascript object>"
      ]
     },
     "metadata": {},
     "output_type": "display_data"
    },
    {
     "data": {
      "text/markdown": [
       "<span style=\"color:#33cc33\">Correct:</span> \n",
       "\n",
       "When you add booleans, adding `False` is equivalent to adding 0, and adding `True` is equivalent to adding 1."
      ],
      "text/plain": [
       "Correct: \n",
       "\n",
       "When you add booleans, adding `False` is equivalent to adding 0, and adding `True` is equivalent to adding 1."
      ]
     },
     "metadata": {},
     "output_type": "display_data"
    }
   ],
   "source": [
    "# Check your answer (Run this code cell to receive credit!)\n",
    "q4.check()"
   ]
  },
  {
   "cell_type": "markdown",
   "id": "422d7c84",
   "metadata": {
    "papermill": {
     "duration": 0.010138,
     "end_time": "2024-02-23T13:14:18.920019",
     "exception": false,
     "start_time": "2024-02-23T13:14:18.909881",
     "status": "completed"
    },
    "tags": []
   },
   "source": [
    "# 🌶️ Question 5\n",
    "\n",
    "You own an online shop where you sell rings with custom engravings.  You offer both gold plated and solid gold rings.\n",
    "- Gold plated rings have a base cost of \\\\$50, and you charge \\\\$7 per engraved unit.  \n",
    "- Solid gold rings have a base cost of \\\\$100, and you charge \\\\$10 per engraved unit.\n",
    "- Spaces and punctuation are counted as engraved units.\n",
    "\n",
    "Write a function `cost_of_project()` that takes two arguments:\n",
    "- `engraving` - a Python string with the text of the engraving\n",
    "- `solid_gold` - a Boolean that indicates whether the ring is solid gold\n",
    "\n",
    "It should return the cost of the project.  This question should be fairly challenging, and you may need a hint."
   ]
  },
  {
   "cell_type": "code",
   "execution_count": 11,
   "id": "95c5aaf7",
   "metadata": {
    "execution": {
     "iopub.execute_input": "2024-02-23T13:14:18.941039Z",
     "iopub.status.busy": "2024-02-23T13:14:18.940710Z",
     "iopub.status.idle": "2024-02-23T13:14:18.949053Z",
     "shell.execute_reply": "2024-02-23T13:14:18.948361Z"
    },
    "papermill": {
     "duration": 0.021671,
     "end_time": "2024-02-23T13:14:18.950994",
     "exception": false,
     "start_time": "2024-02-23T13:14:18.929323",
     "status": "completed"
    },
    "tags": []
   },
   "outputs": [
    {
     "data": {
      "application/javascript": [
       "parent.postMessage({\"jupyterEvent\": \"custom.exercise_interaction\", \"data\": {\"outcomeType\": 1, \"valueTowardsCompletion\": 0.2, \"interactionType\": 1, \"questionType\": 2, \"questionId\": \"5_CustomEngravings\", \"learnToolsVersion\": \"0.3.4\", \"failureMessage\": \"\", \"exceptionClass\": \"\", \"trace\": \"\"}}, \"*\")"
      ],
      "text/plain": [
       "<IPython.core.display.Javascript object>"
      ]
     },
     "metadata": {},
     "output_type": "display_data"
    },
    {
     "data": {
      "text/markdown": [
       "<span style=\"color:#33cc33\">Correct</span>"
      ],
      "text/plain": [
       "Correct"
      ]
     },
     "metadata": {},
     "output_type": "display_data"
    }
   ],
   "source": [
    "def cost_of_project(engraving, solid_gold):\n",
    "    cost = solid_gold * (100 + 10 * len(engraving)) + (not solid_gold) * (50 + 7 * len(engraving))\n",
    "    return cost\n",
    "\n",
    "# Check your answer\n",
    "q5.check()"
   ]
  },
  {
   "cell_type": "code",
   "execution_count": 12,
   "id": "b75dcb1b",
   "metadata": {
    "execution": {
     "iopub.execute_input": "2024-02-23T13:14:18.971241Z",
     "iopub.status.busy": "2024-02-23T13:14:18.970873Z",
     "iopub.status.idle": "2024-02-23T13:14:18.979111Z",
     "shell.execute_reply": "2024-02-23T13:14:18.978134Z"
    },
    "papermill": {
     "duration": 0.020928,
     "end_time": "2024-02-23T13:14:18.981160",
     "exception": false,
     "start_time": "2024-02-23T13:14:18.960232",
     "status": "completed"
    },
    "tags": []
   },
   "outputs": [
    {
     "data": {
      "application/javascript": [
       "parent.postMessage({\"jupyterEvent\": \"custom.exercise_interaction\", \"data\": {\"interactionType\": 2, \"questionType\": 2, \"questionId\": \"5_CustomEngravings\", \"learnToolsVersion\": \"0.3.4\", \"valueTowardsCompletion\": 0.0, \"failureMessage\": \"\", \"exceptionClass\": \"\", \"trace\": \"\", \"outcomeType\": 4}}, \"*\")"
      ],
      "text/plain": [
       "<IPython.core.display.Javascript object>"
      ]
     },
     "metadata": {},
     "output_type": "display_data"
    },
    {
     "data": {
      "text/markdown": [
       "<span style=\"color:#3366cc\">Hint:</span> There are two options - either the project uses solid gold or does not.  With this in mind, you can structure your solution like this: `cost = solid_gold * ____ + (not solid_gold) * ____`.  You need to figure out how to fill in the blanks. Also, remember that:\n",
       "- If `solid_gold = True`, then `(not solid_gold) = False`, and if `solid_gold = False`, then `(not solid_gold) = True`.\n",
       "- Multiplying an integer by `True` is equivalent to multiplying it by 1, and multiplying an integer by `False` is equivalent to multiplying it by 0."
      ],
      "text/plain": [
       "Hint: There are two options - either the project uses solid gold or does not.  With this in mind, you can structure your solution like this: `cost = solid_gold * ____ + (not solid_gold) * ____`.  You need to figure out how to fill in the blanks. Also, remember that:\n",
       "- If `solid_gold = True`, then `(not solid_gold) = False`, and if `solid_gold = False`, then `(not solid_gold) = True`.\n",
       "- Multiplying an integer by `True` is equivalent to multiplying it by 1, and multiplying an integer by `False` is equivalent to multiplying it by 0."
      ]
     },
     "metadata": {},
     "output_type": "display_data"
    }
   ],
   "source": [
    "# Uncomment to see a hint\n",
    "q5.hint()\n",
    "\n",
    "# Uncomment to view the solution\n",
    "#q5.solution()"
   ]
  },
  {
   "cell_type": "markdown",
   "id": "b771bc79",
   "metadata": {
    "papermill": {
     "duration": 0.00954,
     "end_time": "2024-02-23T13:14:19.000673",
     "exception": false,
     "start_time": "2024-02-23T13:14:18.991133",
     "status": "completed"
    },
    "tags": []
   },
   "source": [
    "Run the next code cell to calculate the cost of engraving `Charlie+Denver` on a solid gold ring."
   ]
  },
  {
   "cell_type": "code",
   "execution_count": 13,
   "id": "2e515db0",
   "metadata": {
    "execution": {
     "iopub.execute_input": "2024-02-23T13:14:19.022775Z",
     "iopub.status.busy": "2024-02-23T13:14:19.022451Z",
     "iopub.status.idle": "2024-02-23T13:14:19.027265Z",
     "shell.execute_reply": "2024-02-23T13:14:19.026146Z"
    },
    "papermill": {
     "duration": 0.019198,
     "end_time": "2024-02-23T13:14:19.029868",
     "exception": false,
     "start_time": "2024-02-23T13:14:19.010670",
     "status": "completed"
    },
    "tags": []
   },
   "outputs": [
    {
     "name": "stdout",
     "output_type": "stream",
     "text": [
      "240\n"
     ]
    }
   ],
   "source": [
    "project_one = cost_of_project(\"Charlie+Denver\", True)\n",
    "print(project_one)"
   ]
  },
  {
   "cell_type": "markdown",
   "id": "db2e4ea2",
   "metadata": {
    "papermill": {
     "duration": 0.010066,
     "end_time": "2024-02-23T13:14:19.050298",
     "exception": false,
     "start_time": "2024-02-23T13:14:19.040232",
     "status": "completed"
    },
    "tags": []
   },
   "source": [
    "Use the next code cell to calculate the cost of engraving `08/10/2000` on a gold plated ring."
   ]
  },
  {
   "cell_type": "code",
   "execution_count": 14,
   "id": "d657b275",
   "metadata": {
    "execution": {
     "iopub.execute_input": "2024-02-23T13:14:19.072616Z",
     "iopub.status.busy": "2024-02-23T13:14:19.072272Z",
     "iopub.status.idle": "2024-02-23T13:14:19.076971Z",
     "shell.execute_reply": "2024-02-23T13:14:19.075960Z"
    },
    "papermill": {
     "duration": 0.019267,
     "end_time": "2024-02-23T13:14:19.079611",
     "exception": false,
     "start_time": "2024-02-23T13:14:19.060344",
     "status": "completed"
    },
    "tags": []
   },
   "outputs": [
    {
     "name": "stdout",
     "output_type": "stream",
     "text": [
      "120\n"
     ]
    }
   ],
   "source": [
    "project_two = cost_of_project(\"08/10/2000\", False)\n",
    "print(project_two)"
   ]
  },
  {
   "cell_type": "markdown",
   "id": "a3140908",
   "metadata": {
    "papermill": {
     "duration": 0.01032,
     "end_time": "2024-02-23T13:14:19.100386",
     "exception": false,
     "start_time": "2024-02-23T13:14:19.090066",
     "status": "completed"
    },
    "tags": []
   },
   "source": [
    "# Keep going\n",
    "\n",
    "Continue to the next lesson to **[learn about conditions and conditional statements](https://www.kaggle.com/alexisbcook/conditions-and-conditional-statements)**."
   ]
  },
  {
   "cell_type": "markdown",
   "id": "633f13cf",
   "metadata": {
    "papermill": {
     "duration": 0.0103,
     "end_time": "2024-02-23T13:14:19.121243",
     "exception": false,
     "start_time": "2024-02-23T13:14:19.110943",
     "status": "completed"
    },
    "tags": []
   },
   "source": [
    "---\n",
    "\n",
    "\n",
    "\n",
    "\n",
    "*Have questions or comments? Visit the [course discussion forum](https://www.kaggle.com/learn/intro-to-programming/discussion) to chat with other learners.*"
   ]
  }
 ],
 "metadata": {
  "kaggle": {
   "accelerator": "none",
   "dataSources": [],
   "isGpuEnabled": false,
   "isInternetEnabled": false,
   "language": "python",
   "sourceType": "notebook"
  },
  "kernelspec": {
   "display_name": "Python 3",
   "language": "python",
   "name": "python3"
  },
  "language_info": {
   "codemirror_mode": {
    "name": "ipython",
    "version": 3
   },
   "file_extension": ".py",
   "mimetype": "text/x-python",
   "name": "python",
   "nbconvert_exporter": "python",
   "pygments_lexer": "ipython3",
   "version": "3.10.13"
  },
  "papermill": {
   "default_parameters": {},
   "duration": 7.0081,
   "end_time": "2024-02-23T13:14:21.921966",
   "environment_variables": {},
   "exception": null,
   "input_path": "__notebook__.ipynb",
   "output_path": "__notebook__.ipynb",
   "parameters": {},
   "start_time": "2024-02-23T13:14:14.913866",
   "version": "2.3.3"
  }
 },
 "nbformat": 4,
 "nbformat_minor": 5
}
