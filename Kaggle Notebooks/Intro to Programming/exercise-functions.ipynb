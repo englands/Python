{
 "cells": [
  {
   "cell_type": "markdown",
   "id": "89398f17",
   "metadata": {
    "papermill": {
     "duration": 0.008493,
     "end_time": "2024-02-22T04:22:40.487836",
     "exception": false,
     "start_time": "2024-02-22T04:22:40.479343",
     "status": "completed"
    },
    "tags": []
   },
   "source": [
    "**This notebook is an exercise in the [Intro to Programming](https://www.kaggle.com/learn/intro-to-programming) course.  You can reference the tutorial at [this link](https://www.kaggle.com/alexisbcook/functions).**\n",
    "\n",
    "---\n"
   ]
  },
  {
   "cell_type": "markdown",
   "id": "f8221422",
   "metadata": {
    "papermill": {
     "duration": 0.007959,
     "end_time": "2024-02-22T04:22:40.504475",
     "exception": false,
     "start_time": "2024-02-22T04:22:40.496516",
     "status": "completed"
    },
    "tags": []
   },
   "source": [
    "In the tutorial, you learned about functions. In this exercise, you'll write some of your own!\n",
    "\n",
    "# Set up the notebook\n",
    "\n",
    "Run the next code cell without changes to set up the notebook."
   ]
  },
  {
   "cell_type": "code",
   "execution_count": 1,
   "id": "150387db",
   "metadata": {
    "execution": {
     "iopub.execute_input": "2024-02-22T04:22:40.522043Z",
     "iopub.status.busy": "2024-02-22T04:22:40.521641Z",
     "iopub.status.idle": "2024-02-22T04:22:41.562909Z",
     "shell.execute_reply": "2024-02-22T04:22:41.561496Z"
    },
    "papermill": {
     "duration": 1.053369,
     "end_time": "2024-02-22T04:22:41.565709",
     "exception": false,
     "start_time": "2024-02-22T04:22:40.512340",
     "status": "completed"
    },
    "tags": []
   },
   "outputs": [
    {
     "name": "stdout",
     "output_type": "stream",
     "text": [
      "Setup complete.\n"
     ]
    }
   ],
   "source": [
    "# Set up the exercise\n",
    "import math\n",
    "from learntools.core import binder\n",
    "binder.bind(globals())\n",
    "from learntools.intro_to_programming.ex2 import *\n",
    "print('Setup complete.')"
   ]
  },
  {
   "cell_type": "markdown",
   "id": "3e883aba",
   "metadata": {
    "papermill": {
     "duration": 0.007559,
     "end_time": "2024-02-22T04:22:41.581329",
     "exception": false,
     "start_time": "2024-02-22T04:22:41.573770",
     "status": "completed"
    },
    "tags": []
   },
   "source": [
    "# Question 1\n",
    "\n",
    "In the [House Prices - Advanced Regression Techniques competition](https://www.kaggle.com/c/house-prices-advanced-regression-techniques/overview), you need to use information like the number of bedrooms and bathrooms to predict the price of a house.  Inspired by this competition, you'll write your own function to do this.\n",
    "\n",
    "In the next code cell, create a function `get_expected_cost()` that has two arguments:\n",
    "- `beds` - number of bedrooms \n",
    "- `baths` - number of bathrooms\n",
    "\n",
    "It should return the expected cost of a house with that number of bedrooms and bathrooms.  Assume that:\n",
    "- the expected cost for a house with 0 bedrooms and 0 bathrooms is `80000`.  \n",
    "- each bedroom adds `30000` to the expected cost\n",
    "- each bathroom adds `10000` to the expected cost.\n",
    "\n",
    "For instance, \n",
    "- a house with 1 bedroom and 1 bathroom has an expected cost of `120000`, and \n",
    "- a house with 2 bedrooms and 1 bathroom has an expected cost of `150000`."
   ]
  },
  {
   "cell_type": "code",
   "execution_count": 2,
   "id": "b0008408",
   "metadata": {
    "execution": {
     "iopub.execute_input": "2024-02-22T04:22:41.599142Z",
     "iopub.status.busy": "2024-02-22T04:22:41.598595Z",
     "iopub.status.idle": "2024-02-22T04:22:41.609321Z",
     "shell.execute_reply": "2024-02-22T04:22:41.608221Z"
    },
    "papermill": {
     "duration": 0.02244,
     "end_time": "2024-02-22T04:22:41.611650",
     "exception": false,
     "start_time": "2024-02-22T04:22:41.589210",
     "status": "completed"
    },
    "tags": []
   },
   "outputs": [
    {
     "data": {
      "application/javascript": [
       "parent.postMessage({\"jupyterEvent\": \"custom.exercise_interaction\", \"data\": {\"outcomeType\": 1, \"valueTowardsCompletion\": 0.2, \"interactionType\": 1, \"questionType\": 2, \"questionId\": \"1_GetExpectedCost\", \"learnToolsVersion\": \"0.3.4\", \"failureMessage\": \"\", \"exceptionClass\": \"\", \"trace\": \"\"}}, \"*\")"
      ],
      "text/plain": [
       "<IPython.core.display.Javascript object>"
      ]
     },
     "metadata": {},
     "output_type": "display_data"
    },
    {
     "data": {
      "text/markdown": [
       "<span style=\"color:#33cc33\">Correct</span>"
      ],
      "text/plain": [
       "Correct"
      ]
     },
     "metadata": {},
     "output_type": "display_data"
    }
   ],
   "source": [
    "# TODO: Complete the function\n",
    "def get_expected_cost(beds, baths):\n",
    "    value = 80000 + (30000 * beds) + (10000 * baths)\n",
    "    return value\n",
    "\n",
    "# Check your answer \n",
    "q1.check()"
   ]
  },
  {
   "cell_type": "code",
   "execution_count": 3,
   "id": "97dbc9c6",
   "metadata": {
    "execution": {
     "iopub.execute_input": "2024-02-22T04:22:41.630366Z",
     "iopub.status.busy": "2024-02-22T04:22:41.629973Z",
     "iopub.status.idle": "2024-02-22T04:22:41.639390Z",
     "shell.execute_reply": "2024-02-22T04:22:41.638116Z"
    },
    "papermill": {
     "duration": 0.021718,
     "end_time": "2024-02-22T04:22:41.641660",
     "exception": false,
     "start_time": "2024-02-22T04:22:41.619942",
     "status": "completed"
    },
    "tags": []
   },
   "outputs": [
    {
     "data": {
      "application/javascript": [
       "parent.postMessage({\"jupyterEvent\": \"custom.exercise_interaction\", \"data\": {\"interactionType\": 2, \"questionType\": 2, \"questionId\": \"1_GetExpectedCost\", \"learnToolsVersion\": \"0.3.4\", \"valueTowardsCompletion\": 0.0, \"failureMessage\": \"\", \"exceptionClass\": \"\", \"trace\": \"\", \"outcomeType\": 4}}, \"*\")"
      ],
      "text/plain": [
       "<IPython.core.display.Javascript object>"
      ]
     },
     "metadata": {},
     "output_type": "display_data"
    },
    {
     "data": {
      "text/markdown": [
       "<span style=\"color:#3366cc\">Hint:</span> The value should be the base cost (`80000`), plus the total cost of the bedrooms (`30000 * beds`), plus the total cost of the bathrooms (`10000 * baths`)."
      ],
      "text/plain": [
       "Hint: The value should be the base cost (`80000`), plus the total cost of the bedrooms (`30000 * beds`), plus the total cost of the bathrooms (`10000 * baths`)."
      ]
     },
     "metadata": {},
     "output_type": "display_data"
    }
   ],
   "source": [
    "# Uncomment to see a hint\n",
    "q1.hint()\n",
    "\n",
    "# Uncomment to view the solution\n",
    "#q1.solution()"
   ]
  },
  {
   "cell_type": "markdown",
   "id": "9188994f",
   "metadata": {
    "papermill": {
     "duration": 0.008317,
     "end_time": "2024-02-22T04:22:41.658648",
     "exception": false,
     "start_time": "2024-02-22T04:22:41.650331",
     "status": "completed"
    },
    "tags": []
   },
   "source": [
    "# Question 2\n",
    "\n",
    "You are thinking about buying a home and want to get an idea of how much you will spend, based on the number of bedrooms and bathrooms.  You are trying to decide between four different options:\n",
    "- Option 1: house with two bedrooms and three bathrooms\n",
    "- Option 2: house with three bedrooms and two bathrooms\n",
    "- Option 3: house with three bedrooms and three bathrooms\n",
    "- Option 4: house with three bedrooms and four bathrooms\n",
    "\n",
    "Use the `get_expected_cost()` function you defined in question 1 to set `option_1`, `option_2`, `option_3`, and `option_4` to the expected cost of each option."
   ]
  },
  {
   "cell_type": "code",
   "execution_count": 4,
   "id": "bf6460b2",
   "metadata": {
    "execution": {
     "iopub.execute_input": "2024-02-22T04:22:41.677827Z",
     "iopub.status.busy": "2024-02-22T04:22:41.677440Z",
     "iopub.status.idle": "2024-02-22T04:22:41.689822Z",
     "shell.execute_reply": "2024-02-22T04:22:41.688587Z"
    },
    "papermill": {
     "duration": 0.025198,
     "end_time": "2024-02-22T04:22:41.692444",
     "exception": false,
     "start_time": "2024-02-22T04:22:41.667246",
     "status": "completed"
    },
    "tags": []
   },
   "outputs": [
    {
     "name": "stdout",
     "output_type": "stream",
     "text": [
      "170000\n",
      "190000\n",
      "200000\n",
      "210000\n"
     ]
    },
    {
     "data": {
      "application/javascript": [
       "parent.postMessage({\"jupyterEvent\": \"custom.exercise_interaction\", \"data\": {\"outcomeType\": 1, \"valueTowardsCompletion\": 0.2, \"interactionType\": 1, \"questionType\": 1, \"questionId\": \"2_RunGetExpectedCost\", \"learnToolsVersion\": \"0.3.4\", \"failureMessage\": \"\", \"exceptionClass\": \"\", \"trace\": \"\"}}, \"*\")"
      ],
      "text/plain": [
       "<IPython.core.display.Javascript object>"
      ]
     },
     "metadata": {},
     "output_type": "display_data"
    },
    {
     "data": {
      "text/markdown": [
       "<span style=\"color:#33cc33\">Correct</span>"
      ],
      "text/plain": [
       "Correct"
      ]
     },
     "metadata": {},
     "output_type": "display_data"
    }
   ],
   "source": [
    "# TODO: Use the get_expected_cost function to fill in each value\n",
    "option_one = 80000 + (30000 * 2) + (10000 * 3)\n",
    "option_two = 80000 + (30000 * 3) + (10000 * 2)\n",
    "option_three = 80000 + (30000 * 3) + (10000 * 3)\n",
    "option_four = 80000 + (30000 * 3) + (10000 * 4)\n",
    "\n",
    "print(option_one)\n",
    "print(option_two)\n",
    "print(option_three)\n",
    "print(option_four)\n",
    "\n",
    "# Check your answer\n",
    "q2.check()"
   ]
  },
  {
   "cell_type": "code",
   "execution_count": 5,
   "id": "df386957",
   "metadata": {
    "execution": {
     "iopub.execute_input": "2024-02-22T04:22:41.712488Z",
     "iopub.status.busy": "2024-02-22T04:22:41.712088Z",
     "iopub.status.idle": "2024-02-22T04:22:41.716842Z",
     "shell.execute_reply": "2024-02-22T04:22:41.715610Z"
    },
    "papermill": {
     "duration": 0.017833,
     "end_time": "2024-02-22T04:22:41.719304",
     "exception": false,
     "start_time": "2024-02-22T04:22:41.701471",
     "status": "completed"
    },
    "tags": []
   },
   "outputs": [],
   "source": [
    "# Uncomment to see a hint\n",
    "#q2.hint()\n",
    "\n",
    "# Uncomment to view the solution\n",
    "#q2.solution()"
   ]
  },
  {
   "cell_type": "markdown",
   "id": "de7054b5",
   "metadata": {
    "papermill": {
     "duration": 0.00914,
     "end_time": "2024-02-22T04:22:41.737696",
     "exception": false,
     "start_time": "2024-02-22T04:22:41.728556",
     "status": "completed"
    },
    "tags": []
   },
   "source": [
    "# Question 3\n",
    "\n",
    "You're a home decorator, and you'd like to use Python to streamline some of your work.  Specifically, you're creating a tool that you intend to use to calculate the cost of painting a room.\n",
    "\n",
    "As a first step, define a function `get_cost()` that takes as input:\n",
    "- `sqft_walls` = total square feet of walls to be painted\n",
    "- `sqft_ceiling` = square feet of ceiling to be painted\n",
    "- `sqft_per_gallon` = number of square feet that you can cover with one gallon of paint\n",
    "- `cost_per_gallon` = cost (in dollars) of one gallon of paint\n",
    "\n",
    "It should return the cost (in dollars) of putting one coat of paint on all walls and the ceiling.  Assume you can buy the exact amount of paint that you need, so you can buy partial gallons (e.g., if you need 7.523 gallons, you can buy that exact amount, instead of needing to buy 8 gallons and waste some paint).  Do not round your answer."
   ]
  },
  {
   "cell_type": "code",
   "execution_count": 6,
   "id": "a9c1a225",
   "metadata": {
    "execution": {
     "iopub.execute_input": "2024-02-22T04:22:41.759242Z",
     "iopub.status.busy": "2024-02-22T04:22:41.758450Z",
     "iopub.status.idle": "2024-02-22T04:22:41.769552Z",
     "shell.execute_reply": "2024-02-22T04:22:41.768456Z"
    },
    "papermill": {
     "duration": 0.023632,
     "end_time": "2024-02-22T04:22:41.771643",
     "exception": false,
     "start_time": "2024-02-22T04:22:41.748011",
     "status": "completed"
    },
    "tags": []
   },
   "outputs": [
    {
     "data": {
      "application/javascript": [
       "parent.postMessage({\"jupyterEvent\": \"custom.exercise_interaction\", \"data\": {\"outcomeType\": 1, \"valueTowardsCompletion\": 0.2, \"interactionType\": 1, \"questionType\": 2, \"questionId\": \"3_GetCostPaint\", \"learnToolsVersion\": \"0.3.4\", \"failureMessage\": \"\", \"exceptionClass\": \"\", \"trace\": \"\"}}, \"*\")"
      ],
      "text/plain": [
       "<IPython.core.display.Javascript object>"
      ]
     },
     "metadata": {},
     "output_type": "display_data"
    },
    {
     "data": {
      "text/markdown": [
       "<span style=\"color:#33cc33\">Correct</span>"
      ],
      "text/plain": [
       "Correct"
      ]
     },
     "metadata": {},
     "output_type": "display_data"
    }
   ],
   "source": [
    "# TODO: Finish defining the function\n",
    "def get_cost(sqft_walls, sqft_ceiling, sqft_per_gallon, cost_per_gallon):\n",
    "    cost =  ((sqft_walls + sqft_ceiling) / sqft_per_gallon) * cost_per_gallon\n",
    "    return cost\n",
    "\n",
    "# Check your answer\n",
    "q3.check()"
   ]
  },
  {
   "cell_type": "code",
   "execution_count": 7,
   "id": "d7f1c979",
   "metadata": {
    "execution": {
     "iopub.execute_input": "2024-02-22T04:22:41.792327Z",
     "iopub.status.busy": "2024-02-22T04:22:41.791909Z",
     "iopub.status.idle": "2024-02-22T04:22:41.799820Z",
     "shell.execute_reply": "2024-02-22T04:22:41.799006Z"
    },
    "papermill": {
     "duration": 0.020881,
     "end_time": "2024-02-22T04:22:41.802037",
     "exception": false,
     "start_time": "2024-02-22T04:22:41.781156",
     "status": "completed"
    },
    "tags": []
   },
   "outputs": [
    {
     "data": {
      "application/javascript": [
       "parent.postMessage({\"jupyterEvent\": \"custom.exercise_interaction\", \"data\": {\"interactionType\": 2, \"questionType\": 2, \"questionId\": \"3_GetCostPaint\", \"learnToolsVersion\": \"0.3.4\", \"valueTowardsCompletion\": 0.0, \"failureMessage\": \"\", \"exceptionClass\": \"\", \"trace\": \"\", \"outcomeType\": 4}}, \"*\")"
      ],
      "text/plain": [
       "<IPython.core.display.Javascript object>"
      ]
     },
     "metadata": {},
     "output_type": "display_data"
    },
    {
     "data": {
      "text/markdown": [
       "<span style=\"color:#3366cc\">Hint:</span> Begin by calculating the total number of square feet that need to be painted. Then, based on that, figure out how many gallons you need.  Then, once you know how many gallons you need, you can calculate the total cost of the project."
      ],
      "text/plain": [
       "Hint: Begin by calculating the total number of square feet that need to be painted. Then, based on that, figure out how many gallons you need.  Then, once you know how many gallons you need, you can calculate the total cost of the project."
      ]
     },
     "metadata": {},
     "output_type": "display_data"
    }
   ],
   "source": [
    "# Uncomment to see a hint\n",
    "q3.hint()\n",
    "\n",
    "# Uncomment to view the solution\n",
    "#q3.solution()"
   ]
  },
  {
   "cell_type": "markdown",
   "id": "8f658dcb",
   "metadata": {
    "papermill": {
     "duration": 0.009381,
     "end_time": "2024-02-22T04:22:41.821411",
     "exception": false,
     "start_time": "2024-02-22T04:22:41.812030",
     "status": "completed"
    },
    "tags": []
   },
   "source": [
    "# Question 4\n",
    "\n",
    "Use the `get_cost()` function you defined in Question 3 to calculate the cost of applying one coat of paint to a room with:\n",
    "- 432 square feet of walls, and\n",
    "- 144 square feet of ceiling.\n",
    "\n",
    "Assume that one gallon of paint covers 400 square feet and costs $15.  As in Question 3, assume you can buy partial gallons of paint.  Do not round your answer."
   ]
  },
  {
   "cell_type": "code",
   "execution_count": 8,
   "id": "e2933033",
   "metadata": {
    "execution": {
     "iopub.execute_input": "2024-02-22T04:22:41.842822Z",
     "iopub.status.busy": "2024-02-22T04:22:41.842410Z",
     "iopub.status.idle": "2024-02-22T04:22:41.852835Z",
     "shell.execute_reply": "2024-02-22T04:22:41.851533Z"
    },
    "papermill": {
     "duration": 0.024032,
     "end_time": "2024-02-22T04:22:41.855234",
     "exception": false,
     "start_time": "2024-02-22T04:22:41.831202",
     "status": "completed"
    },
    "tags": []
   },
   "outputs": [
    {
     "name": "stdout",
     "output_type": "stream",
     "text": [
      "21.599999999999998\n"
     ]
    },
    {
     "data": {
      "application/javascript": [
       "parent.postMessage({\"jupyterEvent\": \"custom.exercise_interaction\", \"data\": {\"outcomeType\": 1, \"valueTowardsCompletion\": 0.2, \"interactionType\": 1, \"questionType\": 1, \"questionId\": \"4_GetCostPaintExample\", \"learnToolsVersion\": \"0.3.4\", \"failureMessage\": \"\", \"exceptionClass\": \"\", \"trace\": \"\"}}, \"*\")"
      ],
      "text/plain": [
       "<IPython.core.display.Javascript object>"
      ]
     },
     "metadata": {},
     "output_type": "display_data"
    },
    {
     "data": {
      "text/markdown": [
       "<span style=\"color:#33cc33\">Correct</span>"
      ],
      "text/plain": [
       "Correct"
      ]
     },
     "metadata": {},
     "output_type": "display_data"
    }
   ],
   "source": [
    "# TODO: Set the project_cost variable to the cost of the project\n",
    "project_cost = ((432 + 144) / 400) * 15\n",
    "print(project_cost)\n",
    "\n",
    "# Check your answer\n",
    "q4.check()"
   ]
  },
  {
   "cell_type": "code",
   "execution_count": 9,
   "id": "b1c30fa1",
   "metadata": {
    "execution": {
     "iopub.execute_input": "2024-02-22T04:22:41.878098Z",
     "iopub.status.busy": "2024-02-22T04:22:41.877709Z",
     "iopub.status.idle": "2024-02-22T04:22:41.882531Z",
     "shell.execute_reply": "2024-02-22T04:22:41.881407Z"
    },
    "papermill": {
     "duration": 0.018944,
     "end_time": "2024-02-22T04:22:41.884929",
     "exception": false,
     "start_time": "2024-02-22T04:22:41.865985",
     "status": "completed"
    },
    "tags": []
   },
   "outputs": [],
   "source": [
    "# Uncomment to see a hint\n",
    "#q4.hint()\n",
    "\n",
    "# Uncomment to view the solution\n",
    "#q4.solution()"
   ]
  },
  {
   "cell_type": "markdown",
   "id": "7908b21a",
   "metadata": {
    "papermill": {
     "duration": 0.010059,
     "end_time": "2024-02-22T04:22:41.905285",
     "exception": false,
     "start_time": "2024-02-22T04:22:41.895226",
     "status": "completed"
    },
    "tags": []
   },
   "source": [
    "# 🌶️ Question 5\n",
    "\n",
    "Now say you can no longer buy fractions of a gallon.  (For instance, if you need 4.3 gallons to do a project, then you have to buy 5 gallons of paint.)\n",
    "\n",
    "With this new scenario, you will create a new function `get_actual_cost` that uses the same inputs and calculates the cost of your project.\n",
    "\n",
    "One function that you'll need to use to do this is `math.ceil()`.  We demonstrate usage of this function in the code cell below.  It takes as a number as input and rounds the number up to the nearest integer.  \n",
    "\n",
    "Run the next code cell to test this function for yourself.  Feel free to change the value of `test_value` and make sure `math.ceil()` returns the number you expect."
   ]
  },
  {
   "cell_type": "code",
   "execution_count": 10,
   "id": "8a4ca518",
   "metadata": {
    "execution": {
     "iopub.execute_input": "2024-02-22T04:22:41.927832Z",
     "iopub.status.busy": "2024-02-22T04:22:41.927427Z",
     "iopub.status.idle": "2024-02-22T04:22:41.933840Z",
     "shell.execute_reply": "2024-02-22T04:22:41.932539Z"
    },
    "papermill": {
     "duration": 0.020527,
     "end_time": "2024-02-22T04:22:41.936215",
     "exception": false,
     "start_time": "2024-02-22T04:22:41.915688",
     "status": "completed"
    },
    "tags": []
   },
   "outputs": [
    {
     "name": "stdout",
     "output_type": "stream",
     "text": [
      "3\n"
     ]
    }
   ],
   "source": [
    "test_value = 2.17\n",
    "\n",
    "rounded_value = math.ceil(test_value)\n",
    "print(rounded_value)"
   ]
  },
  {
   "cell_type": "markdown",
   "id": "e4209096",
   "metadata": {
    "papermill": {
     "duration": 0.010469,
     "end_time": "2024-02-22T04:22:41.957105",
     "exception": false,
     "start_time": "2024-02-22T04:22:41.946636",
     "status": "completed"
    },
    "tags": []
   },
   "source": [
    "Use the next code cell to define the function `get_actual_cost()`.  You'll need to use the `math.ceil()` function to do this.\n",
    "\n",
    "When answering this question, note that it's completely valid to define a function that makes use of another function.  For instance, we can define a function `round_up_and_divide_by_three` that makes use of the `math.ceil` function:\n",
    "```\n",
    "def round_up_and_divide_by_three(num):\n",
    "    new_value = math.ceil(num)\n",
    "    final_value = new_value / 3\n",
    "    return final_value\n",
    "```"
   ]
  },
  {
   "cell_type": "code",
   "execution_count": 11,
   "id": "032da700",
   "metadata": {
    "execution": {
     "iopub.execute_input": "2024-02-22T04:22:41.979864Z",
     "iopub.status.busy": "2024-02-22T04:22:41.979454Z",
     "iopub.status.idle": "2024-02-22T04:22:41.989534Z",
     "shell.execute_reply": "2024-02-22T04:22:41.988405Z"
    },
    "papermill": {
     "duration": 0.024001,
     "end_time": "2024-02-22T04:22:41.991816",
     "exception": false,
     "start_time": "2024-02-22T04:22:41.967815",
     "status": "completed"
    },
    "tags": []
   },
   "outputs": [
    {
     "data": {
      "application/javascript": [
       "parent.postMessage({\"jupyterEvent\": \"custom.exercise_interaction\", \"data\": {\"outcomeType\": 1, \"valueTowardsCompletion\": 0.2, \"interactionType\": 1, \"questionType\": 2, \"questionId\": \"5_NoMoreFractions\", \"learnToolsVersion\": \"0.3.4\", \"failureMessage\": \"\", \"exceptionClass\": \"\", \"trace\": \"\"}}, \"*\")"
      ],
      "text/plain": [
       "<IPython.core.display.Javascript object>"
      ]
     },
     "metadata": {},
     "output_type": "display_data"
    },
    {
     "data": {
      "text/markdown": [
       "<span style=\"color:#33cc33\">Correct</span>"
      ],
      "text/plain": [
       "Correct"
      ]
     },
     "metadata": {},
     "output_type": "display_data"
    }
   ],
   "source": [
    "def get_actual_cost(sqft_walls, sqft_ceiling, sqft_per_gallon, cost_per_gallon):\n",
    "    total_sqft = sqft_walls + sqft_ceiling\n",
    "    gallons_needed = total_sqft / sqft_per_gallon\n",
    "    gallons_to_buy = math.ceil(gallons_needed)\n",
    "    cost = cost_per_gallon * gallons_to_buy\n",
    "    return cost\n",
    "\n",
    "\n",
    "# Check your answer\n",
    "q5.check()"
   ]
  },
  {
   "cell_type": "code",
   "execution_count": 12,
   "id": "f0132248",
   "metadata": {
    "execution": {
     "iopub.execute_input": "2024-02-22T04:22:42.015703Z",
     "iopub.status.busy": "2024-02-22T04:22:42.014689Z",
     "iopub.status.idle": "2024-02-22T04:22:42.028351Z",
     "shell.execute_reply": "2024-02-22T04:22:42.027213Z"
    },
    "papermill": {
     "duration": 0.028749,
     "end_time": "2024-02-22T04:22:42.031221",
     "exception": false,
     "start_time": "2024-02-22T04:22:42.002472",
     "status": "completed"
    },
    "tags": []
   },
   "outputs": [
    {
     "data": {
      "application/javascript": [
       "parent.postMessage({\"jupyterEvent\": \"custom.exercise_interaction\", \"data\": {\"interactionType\": 2, \"questionType\": 2, \"questionId\": \"5_NoMoreFractions\", \"learnToolsVersion\": \"0.3.4\", \"valueTowardsCompletion\": 0.0, \"failureMessage\": \"\", \"exceptionClass\": \"\", \"trace\": \"\", \"outcomeType\": 4}}, \"*\")"
      ],
      "text/plain": [
       "<IPython.core.display.Javascript object>"
      ]
     },
     "metadata": {},
     "output_type": "display_data"
    },
    {
     "data": {
      "text/markdown": [
       "<span style=\"color:#3366cc\">Hint:</span> Begin with the `get_cost()` function as a starting point.  The only change you need to make is to add `math.ceil()` to round up the number of gallons that need to be purchased. Can you figure out where to add it to the function?"
      ],
      "text/plain": [
       "Hint: Begin with the `get_cost()` function as a starting point.  The only change you need to make is to add `math.ceil()` to round up the number of gallons that need to be purchased. Can you figure out where to add it to the function?"
      ]
     },
     "metadata": {},
     "output_type": "display_data"
    },
    {
     "data": {
      "application/javascript": [
       "parent.postMessage({\"jupyterEvent\": \"custom.exercise_interaction\", \"data\": {\"interactionType\": 3, \"questionType\": 2, \"questionId\": \"5_NoMoreFractions\", \"learnToolsVersion\": \"0.3.4\", \"valueTowardsCompletion\": 0.0, \"failureMessage\": \"\", \"exceptionClass\": \"\", \"trace\": \"\", \"outcomeType\": 4}}, \"*\")"
      ],
      "text/plain": [
       "<IPython.core.display.Javascript object>"
      ]
     },
     "metadata": {},
     "output_type": "display_data"
    },
    {
     "data": {
      "text/markdown": [
       "<span style=\"color:#33cc99\">Solution:</span> \n",
       "```python\n",
       "def get_actual_cost(sqft_walls, sqft_ceiling, sqft_per_gallon, cost_per_gallon):\n",
       "    total_sqft = sqft_walls + sqft_ceiling\n",
       "    gallons_needed = total_sqft / sqft_per_gallon\n",
       "    gallons_to_buy = math.ceil(gallons_needed)\n",
       "    cost = cost_per_gallon * gallons_to_buy\n",
       "    return cost\n",
       "\n",
       "```"
      ],
      "text/plain": [
       "Solution: \n",
       "```python\n",
       "def get_actual_cost(sqft_walls, sqft_ceiling, sqft_per_gallon, cost_per_gallon):\n",
       "    total_sqft = sqft_walls + sqft_ceiling\n",
       "    gallons_needed = total_sqft / sqft_per_gallon\n",
       "    gallons_to_buy = math.ceil(gallons_needed)\n",
       "    cost = cost_per_gallon * gallons_to_buy\n",
       "    return cost\n",
       "\n",
       "```"
      ]
     },
     "metadata": {},
     "output_type": "display_data"
    }
   ],
   "source": [
    "# Uncomment to see a hint\n",
    "q5.hint()\n",
    "\n",
    "# Uncomment to view the solution\n",
    "q5.solution()"
   ]
  },
  {
   "cell_type": "markdown",
   "id": "af09d86c",
   "metadata": {
    "papermill": {
     "duration": 0.013543,
     "end_time": "2024-02-22T04:22:42.056095",
     "exception": false,
     "start_time": "2024-02-22T04:22:42.042552",
     "status": "completed"
    },
    "tags": []
   },
   "source": [
    "Once your function is verified as correct, run the next code cell to calculate the updated cost of your project."
   ]
  },
  {
   "cell_type": "code",
   "execution_count": 13,
   "id": "99ec45ff",
   "metadata": {
    "execution": {
     "iopub.execute_input": "2024-02-22T04:22:42.082348Z",
     "iopub.status.busy": "2024-02-22T04:22:42.081581Z",
     "iopub.status.idle": "2024-02-22T04:22:42.089100Z",
     "shell.execute_reply": "2024-02-22T04:22:42.087972Z"
    },
    "papermill": {
     "duration": 0.023624,
     "end_time": "2024-02-22T04:22:42.091530",
     "exception": false,
     "start_time": "2024-02-22T04:22:42.067906",
     "status": "completed"
    },
    "tags": []
   },
   "outputs": [
    {
     "data": {
      "text/plain": [
       "30"
      ]
     },
     "execution_count": 13,
     "metadata": {},
     "output_type": "execute_result"
    }
   ],
   "source": [
    "get_actual_cost(432, 144, 400, 15) "
   ]
  },
  {
   "cell_type": "markdown",
   "id": "8292d641",
   "metadata": {
    "papermill": {
     "duration": 0.011777,
     "end_time": "2024-02-22T04:22:42.114885",
     "exception": false,
     "start_time": "2024-02-22T04:22:42.103108",
     "status": "completed"
    },
    "tags": []
   },
   "source": [
    "Say you're working with a slightly larger room.  Run the next code cell to calculate the cost of the project."
   ]
  },
  {
   "cell_type": "code",
   "execution_count": 14,
   "id": "e8d8b6b7",
   "metadata": {
    "execution": {
     "iopub.execute_input": "2024-02-22T04:22:42.139933Z",
     "iopub.status.busy": "2024-02-22T04:22:42.139541Z",
     "iopub.status.idle": "2024-02-22T04:22:42.146439Z",
     "shell.execute_reply": "2024-02-22T04:22:42.145311Z"
    },
    "papermill": {
     "duration": 0.022497,
     "end_time": "2024-02-22T04:22:42.148908",
     "exception": false,
     "start_time": "2024-02-22T04:22:42.126411",
     "status": "completed"
    },
    "tags": []
   },
   "outputs": [
    {
     "data": {
      "text/plain": [
       "45"
      ]
     },
     "execution_count": 14,
     "metadata": {},
     "output_type": "execute_result"
    }
   ],
   "source": [
    "get_actual_cost(594, 288, 400, 15) "
   ]
  },
  {
   "cell_type": "markdown",
   "id": "3373f68e",
   "metadata": {
    "papermill": {
     "duration": 0.011391,
     "end_time": "2024-02-22T04:22:42.172142",
     "exception": false,
     "start_time": "2024-02-22T04:22:42.160751",
     "status": "completed"
    },
    "tags": []
   },
   "source": [
    "# Keep going\n",
    "\n",
    "Continue to learn about **[data types](https://www.kaggle.com/alexisbcook/data-types)**."
   ]
  },
  {
   "cell_type": "markdown",
   "id": "9c17e8b5",
   "metadata": {
    "papermill": {
     "duration": 0.011671,
     "end_time": "2024-02-22T04:22:42.195509",
     "exception": false,
     "start_time": "2024-02-22T04:22:42.183838",
     "status": "completed"
    },
    "tags": []
   },
   "source": [
    "---\n",
    "\n",
    "\n",
    "\n",
    "\n",
    "*Have questions or comments? Visit the [course discussion forum](https://www.kaggle.com/learn/intro-to-programming/discussion) to chat with other learners.*"
   ]
  }
 ],
 "metadata": {
  "kaggle": {
   "accelerator": "none",
   "dataSources": [],
   "isGpuEnabled": false,
   "isInternetEnabled": false,
   "language": "python",
   "sourceType": "notebook"
  },
  "kernelspec": {
   "display_name": "Python 3",
   "language": "python",
   "name": "python3"
  },
  "language_info": {
   "codemirror_mode": {
    "name": "ipython",
    "version": 3
   },
   "file_extension": ".py",
   "mimetype": "text/x-python",
   "name": "python",
   "nbconvert_exporter": "python",
   "pygments_lexer": "ipython3",
   "version": "3.10.13"
  },
  "papermill": {
   "default_parameters": {},
   "duration": 5.398558,
   "end_time": "2024-02-22T04:22:42.728872",
   "environment_variables": {},
   "exception": null,
   "input_path": "__notebook__.ipynb",
   "output_path": "__notebook__.ipynb",
   "parameters": {},
   "start_time": "2024-02-22T04:22:37.330314",
   "version": "2.5.0"
  }
 },
 "nbformat": 4,
 "nbformat_minor": 5
}
